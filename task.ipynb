{
 "cells": [
  {
   "cell_type": "markdown",
   "metadata": {},
   "source": [
    "1 уровень: Основы Python\n",
    "\n",
    "1. Напиши программу \"Hello World\", которая выводит на экран приветствие.\n",
    "2. Создай программу, которая запрашивает у пользователя его имя и возраст, затем выводит их в формате \"Привет, [Имя]! Тебе [Возраст] лет.\"\n",
    "3. Напиши программу, которая проверяет, является ли введенное число четным или нечетным, и выводит соответствующее сообщение.\n",
    "4. Создай программу, используя условные операторы if-else, которая определяет, является ли введенное число положительным, отрицательным или нулем.\n",
    "5. Напиши программу, которая принимает строку от пользователя и выводит ее в обратном порядке.\n",
    "6. Создай список чисел и напиши программу, которая выводит только четные числа из этого списка.\n",
    "7. Напиши программу, которая принимает два числа от пользователя и выводит их сумму.\n"
   ]
  },
  {
   "cell_type": "code",
   "execution_count": 1,
   "metadata": {},
   "outputs": [
    {
     "name": "stdout",
     "output_type": "stream",
     "text": [
      "Hello World\n"
     ]
    }
   ],
   "source": [
    "print(\"Hello World\")"
   ]
  },
  {
   "cell_type": "code",
   "execution_count": 2,
   "metadata": {},
   "outputs": [
    {
     "name": "stdout",
     "output_type": "stream",
     "text": [
      "Привет, marselle! Тебе 21 лет.\n"
     ]
    }
   ],
   "source": [
    "first_name = input(\"Введите ваше имя: \")\n",
    "age = int(input(\"Введите ваш возраст: \"))\n",
    "print(f\"Привет, {first_name}! Тебе {age} лет.\")"
   ]
  },
  {
   "cell_type": "code",
   "execution_count": 3,
   "metadata": {},
   "outputs": [
    {
     "name": "stdout",
     "output_type": "stream",
     "text": [
      "Четное\n"
     ]
    }
   ],
   "source": [
    "is_even = lambda x: \"Четное\" if x % 2 == 0 else \"Нечетное\"\n",
    "print(is_even(4))"
   ]
  },
  {
   "cell_type": "code",
   "execution_count": 4,
   "metadata": {},
   "outputs": [
    {
     "name": "stdout",
     "output_type": "stream",
     "text": [
      "Число положительное\n"
     ]
    }
   ],
   "source": [
    "number = int(input(\"Введите число: \"))\n",
    "print(\"Число положительное\" if number >= 0 else \"Число отрицательное\")"
   ]
  },
  {
   "cell_type": "code",
   "execution_count": 5,
   "metadata": {},
   "outputs": [
    {
     "name": "stdout",
     "output_type": "stream",
     "text": [
      "акортС\n"
     ]
    }
   ],
   "source": [
    "print(input('Введите строку: ')[::-1])"
   ]
  },
  {
   "cell_type": "code",
   "execution_count": 6,
   "metadata": {},
   "outputs": [
    {
     "name": "stdout",
     "output_type": "stream",
     "text": [
      "[2, 4, 6, 8, 10]\n"
     ]
    }
   ],
   "source": [
    "print([num for num in range(1, 11) if num % 2 == 0])"
   ]
  },
  {
   "cell_type": "code",
   "execution_count": 7,
   "metadata": {},
   "outputs": [
    {
     "name": "stdout",
     "output_type": "stream",
     "text": [
      "7\n"
     ]
    }
   ],
   "source": [
    "nums_sum = lambda x, y: x + y\n",
    "print(nums_sum(3, 4))"
   ]
  },
  {
   "cell_type": "markdown",
   "metadata": {},
   "source": [
    "2 уровень: Работа со списками и циклами\n",
    "\n",
    "8. Создай программу, используя цикл for, которая выводит квадраты чисел от 1 до 10.\n",
    "9. Напиши программу, которая принимает список чисел и выводит только те числа, которые больше 5.\n",
    "10. Создай список строк и напиши программу, которая выводит каждую строку, длина которой больше 8 символов.\n",
    "11. Напиши программу, используя цикл while, которая запрашивает у пользователя числа до тех пор, пока он не введет отрицательное число.\n",
    "12. Создай кортеж строк и напиши программу, которая выводит строки в верхнем регистре.\n"
   ]
  },
  {
   "cell_type": "code",
   "execution_count": 8,
   "metadata": {},
   "outputs": [
    {
     "name": "stdout",
     "output_type": "stream",
     "text": [
      "1\n",
      "4\n",
      "9\n",
      "16\n",
      "25\n",
      "36\n",
      "49\n",
      "64\n",
      "81\n",
      "100\n"
     ]
    }
   ],
   "source": [
    "for i in range(1, 11):\n",
    "    print(i ** 2)"
   ]
  },
  {
   "cell_type": "code",
   "execution_count": 9,
   "metadata": {},
   "outputs": [
    {
     "name": "stdout",
     "output_type": "stream",
     "text": [
      "6\n",
      "7\n",
      "8\n",
      "9\n",
      "10\n"
     ]
    }
   ],
   "source": [
    "for i in range(1, 11):\n",
    "    if i > 5:\n",
    "        print(i)"
   ]
  },
  {
   "cell_type": "code",
   "execution_count": 10,
   "metadata": {},
   "outputs": [
    {
     "name": "stdout",
     "output_type": "stream",
     "text": [
      "['ArithmeticError', 'BaseException', 'BytesWarning', 'Element']\n"
     ]
    }
   ],
   "source": [
    "words = ['ArithmeticError', 'BaseException', 'BytesWarning', 'Word', 'Element']\n",
    "print(list(filter(lambda x: len(x) > 5,  words)))"
   ]
  },
  {
   "cell_type": "code",
   "execution_count": 12,
   "metadata": {},
   "outputs": [
    {
     "name": "stdout",
     "output_type": "stream",
     "text": [
      "Число отрицательное, попробуйте еще раз\n"
     ]
    }
   ],
   "source": [
    "while True:\n",
    "    num = int(input(\"Введите число: \"))\n",
    "    if num < 0:\n",
    "        print(\"Число отрицательное, попробуйте еще раз\")\n",
    "        break"
   ]
  },
  {
   "cell_type": "code",
   "execution_count": 13,
   "metadata": {},
   "outputs": [
    {
     "name": "stdout",
     "output_type": "stream",
     "text": [
      "ARITHMETICERROR\n",
      "ASSERTIONERROR\n",
      "ATTRIBUTEERROR\n",
      "BASEEXCEPTION\n",
      "BUFFERERROR\n"
     ]
    }
   ],
   "source": [
    "words = ('ArithmeticError', 'AssertionError', 'AttributeError', 'BaseException', 'BufferError')\n",
    "for word in words:\n",
    "    print(word.upper())"
   ]
  },
  {
   "cell_type": "markdown",
   "metadata": {},
   "source": [
    "3 уровень: Работа с множествами и словарями\n",
    "\n",
    "13. Создай словарь, представляющий собой телефонную книгу (имя - номер). Напиши программу, которая по имени выводит соответствующий номер.\n",
    "14. Напиши программу, которая принимает два множества от пользователя и выводит их объединение."
   ]
  },
  {
   "cell_type": "code",
   "execution_count": 14,
   "metadata": {},
   "outputs": [
    {
     "name": "stdout",
     "output_type": "stream",
     "text": [
      "+77773070060\n"
     ]
    }
   ],
   "source": [
    "contacts = {\n",
    "    'Mather': '+77773070060',\n",
    "    'Father': '+7777307007',\n",
    "    'Sister': '+7777307008',\n",
    "    'Brother': '+7777307009',\n",
    "    'Uncle': '+7777307005',\n",
    "    'Aunt': '+7777307004',\n",
    "    'Cousin': '+7777307002',\n",
    "    'Friend': '+7777307001',\n",
    "    'Boss': '+7777307003',\n",
    "    'Colleague': '+7777307000'\n",
    "}\n",
    "print(contacts['Mather'])"
   ]
  },
  {
   "cell_type": "code",
   "execution_count": 16,
   "metadata": {},
   "outputs": [
    {
     "name": "stdout",
     "output_type": "stream",
     "text": [
      "{1, 2, 3, 4, 5, 6, 7, 8}\n"
     ]
    }
   ],
   "source": [
    "set1 = {1, 2, 3, 4, 5}\n",
    "set2 = {4, 5, 6, 7, 8}\n",
    "print(set1.union(set2))"
   ]
  },
  {
   "cell_type": "markdown",
   "metadata": {},
   "source": [
    "4 уровень: Продвинутые задачи\n",
    "\n",
    "15. Напиши программу, используя функции, которая вычисляет факториал введенного числа."
   ]
  },
  {
   "cell_type": "code",
   "execution_count": 18,
   "metadata": {},
   "outputs": [
    {
     "name": "stdout",
     "output_type": "stream",
     "text": [
      "120\n"
     ]
    }
   ],
   "source": [
    "def factorial(n):\n",
    "    if n == 0:\n",
    "        return 1\n",
    "    else:\n",
    "        return n * factorial(n-1)\n",
    "\n",
    "print(factorial(5))"
   ]
  },
  {
   "cell_type": "markdown",
   "metadata": {},
   "source": [
    "5 уровень: Использование `kwargs` в Python\n",
    "\n",
    "16. Создай функцию, которая принимает различные параметры (например, имя, возраст, город) с использованием kwargs и выводит их в виде предложения. По умолчанию, установи значения по умолчанию для некоторых параметров.\n",
    "\n",
    "17. Напиши программу, которая принимает название товара и его цену с использованием kwargs, добавляет этот товар в словарь корзины покупок и выводит общую сумму покупок."
   ]
  },
  {
   "cell_type": "code",
   "execution_count": 20,
   "metadata": {},
   "outputs": [
    {
     "name": "stdout",
     "output_type": "stream",
     "text": [
      "Name: Marselle\n",
      "Age: 21\n",
      "City: Almaty\n"
     ]
    }
   ],
   "source": [
    "def func(**kwargs):\n",
    "    for key, value in kwargs.items():\n",
    "        print(f\"{key.title()}: {value}\")\n",
    "\n",
    "func(name='Marselle', age=21, city='Almaty')"
   ]
  },
  {
   "cell_type": "code",
   "execution_count": 21,
   "metadata": {},
   "outputs": [
    {
     "name": "stdout",
     "output_type": "stream",
     "text": [
      "Cart: {'apples': 10, 'bananas': 20, 'oranges': 15}\n",
      "Total: 45\n"
     ]
    }
   ],
   "source": [
    "def add_to_cart(**kwargs):\n",
    "    cart = {}\n",
    "    total = 0\n",
    "    for item, price in kwargs.items():\n",
    "        cart[item] = price\n",
    "        total += price\n",
    "    print(\"Cart:\", cart)\n",
    "    print(\"Total:\", total)\n",
    "\n",
    "add_to_cart(apples=10, bananas=20, oranges=15)"
   ]
  },
  {
   "cell_type": "markdown",
   "metadata": {},
   "source": [
    "6 уровень: Расширенная работа с функциями и словарями\n",
    "\n",
    "20. Создай функцию manage_cities, которая позволяет пользователю управлять своими городами. Функция должна предоставлять следующие возможности:\n",
    "\n",
    "   - Добавление нового пользователя с указанием его имени и города.\n",
    "   - Обновление города существующего пользователя.\n",
    "   - Удаление пользователя из списка.\n",
    "   - Вывод списка всех пользователей с их городами.\n",
    "```python\n",
    "def manage_cities(city_dict):\n",
    "    \"\"\"\n",
    "    Реализация функции для управления городами пользователей.\n",
    "\n",
    "    Пользователь может:\n",
    "    1. Добавить нового пользователя.\n",
    "    2. Обновить город существующего пользователя.\n",
    "    3. Удалить пользователя из списка.\n",
    "    4. Вывести список всех пользователей с их городами.\n",
    "\n",
    "    :param city_dict: Словарь, представляющий города пользователей.\n",
    "    \"\"\"\n",
    "    pass\n",
    "```\n",
    "\n",
    "Эта функция должна взаимодействовать с пользователем, запрашивая необходимые данные и выполняя соответствующие операции с словарем городов."
   ]
  },
  {
   "cell_type": "code",
   "execution_count": 22,
   "metadata": {},
   "outputs": [
    {
     "name": "stdout",
     "output_type": "stream",
     "text": [
      "\n",
      "1. Добавить пользователя\n",
      "2. Обновить город\n",
      "3. Удалить пользователя\n",
      "4. Список пользователей\n",
      "5. Выйти\n",
      "Пользователь Marselle добавлен с городом Almaty\n",
      "\n",
      "1. Добавить пользователя\n",
      "2. Обновить город\n",
      "3. Удалить пользователя\n",
      "4. Список пользователей\n",
      "5. Выйти\n",
      "Пользователь Marselle удалён\n",
      "\n",
      "1. Добавить пользователя\n",
      "2. Обновить город\n",
      "3. Удалить пользователя\n",
      "4. Список пользователей\n",
      "5. Выйти\n",
      "Неверный выбор. Попробуйте ещё раз.\n",
      "\n",
      "1. Добавить пользователя\n",
      "2. Обновить город\n",
      "3. Удалить пользователя\n",
      "4. Список пользователей\n",
      "5. Выйти\n",
      "Выход...\n"
     ]
    }
   ],
   "source": [
    "def manage_cities(city_dict):\n",
    "    while True:\n",
    "        print(\"\\n1. Добавить пользователя\\n2. Обновить город\\n3. Удалить пользователя\\n4. Список пользователей\\n5. Выйти\")\n",
    "        choice = input(\"Введите ваш выбор: \")\n",
    "\n",
    "        if choice == '1':\n",
    "            name = input(\"Введите имя пользователя: \")\n",
    "            city = input(\"Введите город: \")\n",
    "            city_dict[name] = city\n",
    "            print(f\"Пользователь {name} добавлен с городом {city}\")\n",
    "        elif choice == '2':\n",
    "            name = input(\"Введите имя пользователя: \")\n",
    "            if name in city_dict:\n",
    "                new_city = input(\"Введите новый город: \")\n",
    "                city_dict[name] = new_city\n",
    "                print(f\"Город обновлен для пользователя {name}\")\n",
    "            else:\n",
    "                print(\"Пользователь не найден\")\n",
    "        elif choice == '3':\n",
    "            name = input(\"Введите имя пользователя: \")\n",
    "            if name in city_dict:\n",
    "                del city_dict[name]\n",
    "                print(f\"Пользователь {name} удалён\")\n",
    "            else:\n",
    "                print(\"Пользователь не найден\")\n",
    "        elif choice == '4':\n",
    "            print(\"Пользователи и их города:\")\n",
    "            for name, city in city_dict.items():\n",
    "                print(f\"{name}: {city}\")\n",
    "        elif choice == '5':\n",
    "            print(\"Выход...\")\n",
    "            break\n",
    "        else:\n",
    "            print(\"Неверный выбор. Попробуйте ещё раз.\")\n",
    "\n",
    "city_dict = {}\n",
    "manage_cities(city_dict)"
   ]
  }
 ],
 "metadata": {
  "kernelspec": {
   "display_name": "Python 3",
   "language": "python",
   "name": "python3"
  },
  "language_info": {
   "codemirror_mode": {
    "name": "ipython",
    "version": 3
   },
   "file_extension": ".py",
   "mimetype": "text/x-python",
   "name": "python",
   "nbconvert_exporter": "python",
   "pygments_lexer": "ipython3",
   "version": "3.12.6"
  }
 },
 "nbformat": 4,
 "nbformat_minor": 2
}
